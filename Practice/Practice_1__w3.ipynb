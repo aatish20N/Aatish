{
  "nbformat": 4,
  "nbformat_minor": 0,
  "metadata": {
    "colab": {
      "name": "Practice 1 _w3.ipynb",
      "provenance": [],
      "collapsed_sections": [],
      "authorship_tag": "ABX9TyPYW2yeJ9INo4vE7P9CIvVK",
      "include_colab_link": true
    },
    "kernelspec": {
      "name": "python3",
      "display_name": "Python 3"
    },
    "language_info": {
      "name": "python"
    }
  },
  "cells": [
    {
      "cell_type": "markdown",
      "metadata": {
        "id": "view-in-github",
        "colab_type": "text"
      },
      "source": [
        "<a href=\"https://colab.research.google.com/github/aatish20N/Aatish/blob/master/Practice/Practice_1__w3.ipynb\" target=\"_parent\"><img src=\"https://colab.research.google.com/assets/colab-badge.svg\" alt=\"Open In Colab\"/></a>"
      ]
    },
    {
      "cell_type": "markdown",
      "source": [
        ""
      ],
      "metadata": {
        "id": "htdTesompp9N"
      }
    },
    {
      "cell_type": "markdown",
      "source": [
        "Python Basic Part 1 -- W3 Resource"
      ],
      "metadata": {
        "id": "ij9Xj1LIps50"
      }
    },
    {
      "cell_type": "code",
      "source": [
        "print(\"Twinkle, twinkle, little star, \\n\\tHow I wonder what you are! \\n\\t\\tUp above the world so high, \\n\\t\\tLike a diamond in the sky. \\nTwinkle, twinkle, little star, \\n\\tHow I wonder what you are!\")\n"
      ],
      "metadata": {
        "colab": {
          "base_uri": "https://localhost:8080/"
        },
        "id": "6NrlnRi1p0KT",
        "outputId": "96d8bac4-6e59-4d74-cb1d-47046f7395b2"
      },
      "execution_count": 1,
      "outputs": [
        {
          "output_type": "stream",
          "name": "stdout",
          "text": [
            "Twinkle, twinkle, little star, \n",
            "\tHow I wonder what you are! \n",
            "\t\tUp above the world so high, \n",
            "\t\tLike a diamond in the sky. \n",
            "Twinkle, twinkle, little star, \n",
            "\tHow I wonder what you are!\n"
          ]
        }
      ]
    },
    {
      "cell_type": "code",
      "source": [
        "import platform\n",
        "print(platform.python_version())\n"
      ],
      "metadata": {
        "colab": {
          "base_uri": "https://localhost:8080/"
        },
        "id": "2ZjBHHMrqkfK",
        "outputId": "09e9f1ab-d58f-4ccf-e7fd-1a6f9a0680f6"
      },
      "execution_count": 2,
      "outputs": [
        {
          "output_type": "stream",
          "name": "stdout",
          "text": [
            "3.7.13\n"
          ]
        }
      ]
    },
    {
      "cell_type": "code",
      "source": [
        "import datetime\n",
        "now = datetime.datetime.now()\n",
        "print(\"Current date and time : \")\n",
        "print (now.strftime(\"%Y-%m-%d %H:%M%S\"))"
      ],
      "metadata": {
        "colab": {
          "base_uri": "https://localhost:8080/"
        },
        "id": "421h_C5aqybh",
        "outputId": "98d60479-1a2e-4f26-b74d-fa011039659f"
      },
      "execution_count": 4,
      "outputs": [
        {
          "output_type": "stream",
          "name": "stdout",
          "text": [
            "Current date and time : \n",
            "2022-05-31 10:3253\n"
          ]
        }
      ]
    },
    {
      "cell_type": "code",
      "source": [
        "from math import  pi\n",
        "r = float(input (\"Input the radius of the circle : \"))\n",
        "print (\"The radius of the Circle with radius \" + str(r) + \"is: \" + str (pi * r**2))"
      ],
      "metadata": {
        "colab": {
          "base_uri": "https://localhost:8080/"
        },
        "id": "wjCjJlLXrQMb",
        "outputId": "9ebca7da-61cb-4434-99c9-b95f0ac19fd7"
      },
      "execution_count": 5,
      "outputs": [
        {
          "output_type": "stream",
          "name": "stdout",
          "text": [
            "Input the radius of the circle : 56\n",
            "The radius of the Circle with radius 56.0is: 9852.03456165759\n"
          ]
        }
      ]
    },
    {
      "cell_type": "code",
      "source": [
        "Firstname = input (\"Enter your First Name : \")\n",
        "Lastname = input (\"Enter your Last Name : \")\n",
        "print (\"Hello \" + Lastname + \" \" + Firstname)"
      ],
      "metadata": {
        "colab": {
          "base_uri": "https://localhost:8080/"
        },
        "id": "Zjv_iOEbtt6Y",
        "outputId": "68e6c684-e5af-49d9-bd1c-8235bd8dfce9"
      },
      "execution_count": 7,
      "outputs": [
        {
          "output_type": "stream",
          "name": "stdout",
          "text": [
            "Enter your First Name : Aatish\n",
            "Enter your Last Name : Nandanwar\n",
            "Hello Nandanwar Aatish\n"
          ]
        }
      ]
    },
    {
      "cell_type": "code",
      "source": [
        "values = input (\"Enter Some comma seperated numbers : \")\n",
        "list = values.split(\",\")\n",
        "tuple = tuple(list)\n",
        "print('List : ', list)\n",
        "print ('Tuple : ', tuple)"
      ],
      "metadata": {
        "colab": {
          "base_uri": "https://localhost:8080/"
        },
        "id": "ExvEzMUMuZl_",
        "outputId": "d5632037-7d2c-4d51-d537-9b320077d66a"
      },
      "execution_count": 9,
      "outputs": [
        {
          "output_type": "stream",
          "name": "stdout",
          "text": [
            "Enter Some comma seperated numbers : 5,6,8,1,56,65,21,0,36\n",
            "List :  ['5', '6', '8', '1', '56', '65', '21', '0', '36']\n",
            "Tuple :  ('5', '6', '8', '1', '56', '65', '21', '0', '36')\n"
          ]
        }
      ]
    },
    {
      "cell_type": "code",
      "source": [
        "filename = input(\"Enter the name of the file : \")\n",
        "f_extns = filename.split(\".\")\n",
        "print (\"The extension of the file is : \" + repr(f_extns[-1]))"
      ],
      "metadata": {
        "colab": {
          "base_uri": "https://localhost:8080/"
        },
        "id": "5FbPd24ovH-V",
        "outputId": "44c9dc1d-b131-4aa2-bb4d-73f498e2bc44"
      },
      "execution_count": 10,
      "outputs": [
        {
          "output_type": "stream",
          "name": "stdout",
          "text": [
            "Enter the name of the file : abc.java\n",
            "The extension of the file is : 'java'\n"
          ]
        }
      ]
    },
    {
      "cell_type": "code",
      "source": [
        "color_list = [\"Red\", \"Green\", \"White \", \"Black\"]\n",
        "print (\"%s %s\"%(color_list[0], color_list[-1]))"
      ],
      "metadata": {
        "colab": {
          "base_uri": "https://localhost:8080/"
        },
        "id": "I2ahJo08xDt8",
        "outputId": "5a0d9c2b-db88-4e00-b8e3-9b76f02bb196"
      },
      "execution_count": 12,
      "outputs": [
        {
          "output_type": "stream",
          "name": "stdout",
          "text": [
            "Red Black\n"
          ]
        }
      ]
    },
    {
      "cell_type": "code",
      "source": [
        "exam_st_date = (11,12,2014)\n",
        "print(\"The examnination will start from : %i / %i / %i\"%exam_st_date)"
      ],
      "metadata": {
        "colab": {
          "base_uri": "https://localhost:8080/"
        },
        "id": "Qma9mJ7AyLNC",
        "outputId": "9b7ba74b-317e-404d-beae-505bb293b588"
      },
      "execution_count": 13,
      "outputs": [
        {
          "output_type": "stream",
          "name": "stdout",
          "text": [
            "The examnination will start from : 11 / 12 / 2014\n"
          ]
        }
      ]
    },
    {
      "cell_type": "code",
      "source": [
        "a = int(input(\"Input an integer : \"))\n",
        "n1 = int( \"%s\" % a )\n",
        "n2 = int( \"%s%s\" % (a,a) )\n",
        "n3 = int( \"%s%s%s\" % (a,a,a) )\n",
        "print (n1+n2+n3)"
      ],
      "metadata": {
        "colab": {
          "base_uri": "https://localhost:8080/"
        },
        "id": "eUs2eAK_znW4",
        "outputId": "911cd88c-c0fa-47fe-ad5c-a69fe6e9a733"
      },
      "execution_count": 15,
      "outputs": [
        {
          "output_type": "stream",
          "name": "stdout",
          "text": [
            "Input an integer : 25\n",
            "255075\n"
          ]
        }
      ]
    },
    {
      "cell_type": "code",
      "source": [
        "print(abs.__doc__)"
      ],
      "metadata": {
        "colab": {
          "base_uri": "https://localhost:8080/"
        },
        "id": "hP5GUZx_8FFf",
        "outputId": "508b4188-0266-4907-edc5-2cade555756b"
      },
      "execution_count": 21,
      "outputs": [
        {
          "output_type": "stream",
          "name": "stdout",
          "text": [
            "Return the absolute value of the argument.\n"
          ]
        }
      ]
    },
    {
      "cell_type": "code",
      "source": [
        "import calendar\n",
        "y = int(input(\"Enter the year : \"))\n",
        "m = int(input(\"Enter the month : \"))\n",
        "print(calendar.month(y,m))"
      ],
      "metadata": {
        "colab": {
          "base_uri": "https://localhost:8080/"
        },
        "id": "OfNg5vxp8U3Z",
        "outputId": "9ccb0930-7cba-476d-a976-f92bd4b6c0a4"
      },
      "execution_count": 24,
      "outputs": [
        {
          "output_type": "stream",
          "name": "stdout",
          "text": [
            "Enter the year : 2022\n",
            "Enter the month : 5\n",
            "      May 2022\n",
            "Mo Tu We Th Fr Sa Su\n",
            "                   1\n",
            " 2  3  4  5  6  7  8\n",
            " 9 10 11 12 13 14 15\n",
            "16 17 18 19 20 21 22\n",
            "23 24 25 26 27 28 29\n",
            "30 31\n",
            "\n"
          ]
        }
      ]
    },
    {
      "cell_type": "code",
      "source": [
        "print(\"\"\"\n",
        "a string that you \"don't\" have to escape\n",
        "This \n",
        "is a ....... mutli-line\n",
        "heredoc string ------> example\n",
        "\"\"\")"
      ],
      "metadata": {
        "colab": {
          "base_uri": "https://localhost:8080/"
        },
        "id": "QiReJAsd-f78",
        "outputId": "868ce014-efac-4be0-f125-756f48d28551"
      },
      "execution_count": 25,
      "outputs": [
        {
          "output_type": "stream",
          "name": "stdout",
          "text": [
            "\n",
            "a string that you \"don't\" have to escape\n",
            "This \n",
            "is a ....... mutli-line\n",
            "heredoc string ------> example\n",
            "\n"
          ]
        }
      ]
    },
    {
      "cell_type": "code",
      "source": [
        "from datetime import date\n",
        "f_date = date(2014,2,10)\n",
        "l_date = date(2022,5,31)\n",
        "delta = l_date - f_date\n",
        "print(delta.days)"
      ],
      "metadata": {
        "colab": {
          "base_uri": "https://localhost:8080/"
        },
        "id": "MHAmyzXd_PLr",
        "outputId": "9b7ef000-670c-4e28-b03d-30a047e5a70d"
      },
      "execution_count": 29,
      "outputs": [
        {
          "output_type": "stream",
          "name": "stdout",
          "text": [
            "3032\n"
          ]
        }
      ]
    },
    {
      "cell_type": "code",
      "source": [
        "r - int(input(\" Enter the radius : \"))\n",
        "pi = 3.1415\n",
        "V = 4.0/3.0*pi*r**3\n",
        "print(\"The Volume of Sphere with Radius = is : \", V)"
      ],
      "metadata": {
        "colab": {
          "base_uri": "https://localhost:8080/"
        },
        "id": "kQOTQwOxBE8Z",
        "outputId": "22e194f2-a1cf-44a7-e2f2-467c9ef2486b"
      },
      "execution_count": 42,
      "outputs": [
        {
          "output_type": "stream",
          "name": "stdout",
          "text": [
            " Enter the radius : 5\n",
            "The Volume of Sphere with Radius = is :  735596.8853333333\n"
          ]
        }
      ]
    },
    {
      "cell_type": "code",
      "source": [
        "def difference (n):\n",
        "  if n <= 17:\n",
        "    return 17 - n\n",
        "  else:\n",
        "    return (n-17)*2\n",
        "\n",
        "print(difference (22))\n",
        "print(difference (14))"
      ],
      "metadata": {
        "colab": {
          "base_uri": "https://localhost:8080/"
        },
        "id": "0VvBLbI_GWeb",
        "outputId": "4686e881-6e0b-4f39-c1ec-be5961c9fd27"
      },
      "execution_count": 44,
      "outputs": [
        {
          "output_type": "stream",
          "name": "stdout",
          "text": [
            "10\n",
            "3\n"
          ]
        }
      ]
    }
  ]
}